{
 "cells": [
  {
   "attachments": {},
   "cell_type": "markdown",
   "metadata": {},
   "source": [
    "# Pymaceuticals Inc.\n",
    "----"
   ]
  },
  {
   "cell_type": "code",
   "execution_count": null,
   "metadata": {},
   "outputs": [],
   "source": [
    "# Dependencies and Setup\n",
    "import matplotlib.pyplot as plt\n",
    "import pandas as pd\n",
    "import scipy.stats as st\n",
    "import numpy as np\n",
    "from sklearn import datasets\n",
    "from scipy.stats import linregress\n",
    "\n",
    "\n",
    "# Study data files\n",
    "mouse_metadata = pd.read_csv(\"Mouse_metadata.csv\")\n",
    "study_results = pd.read_csv(\"Study_results.csv\")\n",
    "\n",
    "\n",
    "# Read the mouse data and the study results\n",
    "mice_data = pd.merge(study_results, mouse_metadata,on = ['Mouse ID'], how = 'left')\n",
    "mice_df = pd.DataFrame(mice_data)\n",
    "mice_df.head()\n",
    "#mice_df"
   ]
  },
  {
   "cell_type": "code",
   "execution_count": null,
   "metadata": {},
   "outputs": [],
   "source": [
    "mouse_counts=mice_df['Mouse ID'].unique()\n",
    "len(mouse_counts)\n",
    "#mouse_counts"
   ]
  },
  {
   "cell_type": "code",
   "execution_count": null,
   "metadata": {},
   "outputs": [],
   "source": [
    "# Getting the duplicate mice by ID number that shows up for Mouse ID and Timepoint. \n",
    "\n",
    "\n",
    "duplicate = mice_df[mice_df.duplicated([\"Mouse ID\",\"Timepoint\"])]['Mouse ID'].unique()\n",
    "duplicate\n",
    "\n",
    "# duplicate = mice_data[mice_df.duplicated([\"Mouse ID\",\"Timepoint\"])][\"Mouse ID\"].unique()\n",
    "# duplicate"
   ]
  },
  {
   "cell_type": "code",
   "execution_count": null,
   "metadata": {},
   "outputs": [],
   "source": [
    "# get all the data for the duplicate mice\n",
    "# isin() method to create a Boolean Series indicating which rows have Mouse IDs that are in duplicate_mice\n",
    "duplicate_data = mice_df.loc[mice_df[\"Mouse ID\"].isin(duplicate)]\n",
    "duplicate_data"
   ]
  },
  {
   "cell_type": "code",
   "execution_count": null,
   "metadata": {},
   "outputs": [],
   "source": [
    "# Create a clean DataFrame by dropping the duplicate mouse by its ID.\n",
    "# clean_mice_df = mice_df.drop_duplicates(subset=['Mouse ID', 'Timepoint'])\n",
    "clean_mice_df = mice_df[mice_df['Mouse ID'].isin(duplicate)==False]\n",
    "# clean_mice_df = mice_df[mice_df['Mouse ID']=='g989']\n",
    "# clean_mice_df = clean_mice_df.drop(clean_mice_df['Mouse ID']=='g989')\n",
    "clean_mice_df"
   ]
  },
  {
   "cell_type": "code",
   "execution_count": null,
   "metadata": {},
   "outputs": [],
   "source": [
    "# Checking the number of mice in the clean DataFrame.\n",
    "\n",
    "\n",
    "mice_counts=clean_mice_df['Mouse ID'].unique()\n",
    "len(mice_counts)"
   ]
  },
  {
   "attachments": {},
   "cell_type": "markdown",
   "metadata": {},
   "source": [
    "## Summary Statistics"
   ]
  },
  {
   "cell_type": "code",
   "execution_count": null,
   "metadata": {},
   "outputs": [],
   "source": [
    "# Generate a summary statistics table of mean, median, variance, standard deviation, and SEM of the tumor volume for each regimen\n",
    "\n",
    "# Use groupby and summary statistical methods to calculate the following properties of each drug regimen: \n",
    "# mean, median, variance, standard deviation, and SEM of the tumor volume. \n",
    "# Assemble the resulting series into a single summary DataFrame.\n",
    "\n",
    "mice_tumor_mean = clean_mice_df.groupby([\"Drug Regimen\"]).mean(numeric_only=True)['Tumor Volume (mm3)']\n",
    "#mice_tumor_mean\n",
    "mice_tumor_median = clean_mice_df.groupby([\"Drug Regimen\"]).median(numeric_only=True)['Tumor Volume (mm3)']\n",
    "mice_tumor_variance = clean_mice_df.groupby([\"Drug Regimen\"]).var(numeric_only=True)['Tumor Volume (mm3)']\n",
    "mice_tumor_std = clean_mice_df.groupby([\"Drug Regimen\"]).std(numeric_only=True)['Tumor Volume (mm3)']\n",
    "mice_tumor_SEM = clean_mice_df.groupby([\"Drug Regimen\"]).sem(numeric_only=True)['Tumor Volume (mm3)']"
   ]
  },
  {
   "cell_type": "code",
   "execution_count": null,
   "metadata": {},
   "outputs": [],
   "source": [
    "summary_stat = pd.merge(mice_tumor_mean,mice_tumor_median, on = 'Drug Regimen')\\\n",
    ".merge(mice_tumor_variance, on = 'Drug Regimen')\\\n",
    ".merge(mice_tumor_std, on = 'Drug Regimen')\\\n",
    ".merge(mice_tumor_SEM, on = 'Drug Regimen')\n",
    "\n",
    "summary_stat = pd.DataFrame({\n",
    "    'Mean Tumor Volume':mice_tumor_mean,\n",
    "    'Median Tumor Volume':mice_tumor_median,\n",
    "    'Tumor Volume Variance':mice_tumor_variance,\n",
    "    'Tumor Volume Std. Dev.':mice_tumor_std,\n",
    "    'Tumor Volume Std. Err.':mice_tumor_SEM\n",
    "})\n",
    "summary_stat\n"
   ]
  },
  {
   "cell_type": "code",
   "execution_count": null,
   "metadata": {},
   "outputs": [],
   "source": [
    "# Generate a summary statistics table of mean, median, variance, standard deviation, \n",
    "# and SEM of the tumor volume for each regimen\n",
    "\n",
    "# Using the aggregation method, produce the same summary statistics in a single line.\n",
    "\n",
    "summary_stats = clean_mice_df.groupby('Drug Regimen').agg({\n",
    "    'Tumor Volume (mm3)': ['mean', 'median', 'var', 'std','sem'] \n",
    "})\n",
    "summary_stats"
   ]
  },
  {
   "attachments": {},
   "cell_type": "markdown",
   "metadata": {},
   "source": [
    "## Bar and Pie Charts"
   ]
  },
  {
   "cell_type": "code",
   "execution_count": null,
   "metadata": {},
   "outputs": [],
   "source": [
    "# Generate a bar plot showing the total number of timepoints for all mice tested for each drug regimen using Pandas.\n",
    "\n",
    "# group the data by drug regimen and sum the timepoints\n",
    "\n",
    "\n",
    "#mice_tumor_count = clean_mice_df.groupby([\"Drug Regimen\"]).count()['Timepoint']\n",
    "#mice_tumor_count\n",
    "#mice_tumor_count.plot(kind=\"bar\")\n",
    "\n",
    "timepoints_by_drug = clean_mice_df.groupby('Drug Regimen')['Timepoint'].count()\n",
    "#Now the graph looks like the assignment, 'trial and error your way to victory'........ ouch\n",
    "timepoints_by_drug = timepoints_by_drug.sort_values(ascending=False)\n",
    "timepoints_by_drug.plot(kind='bar')\n"
   ]
  },
  {
   "cell_type": "code",
   "execution_count": null,
   "metadata": {},
   "outputs": [],
   "source": [
    "# Generate a bar plot showing the total number of timepoints for all mice tested for each drug regimen using pyplot.\n",
    "timepoints_by_drug = clean_mice_df.groupby('Drug Regimen')['Timepoint'].count().sort_values(ascending=False)\n",
    "drugs=timepoints_by_drug.index\n",
    "timepoints = timepoints_by_drug.values\n",
    "plt.bar(drugs,timepoints)\n",
    "plt.xticks(drugs, rotation=90)\n",
    "# plt.xticks(tick_locations, rain_df[\"State\"], rotation=\"vertical\")\n",
    "plt.show()"
   ]
  },
  {
   "cell_type": "code",
   "execution_count": null,
   "metadata": {},
   "outputs": [],
   "source": [
    "# Generate a pie plot showing the distribution of female versus male mice using Pandas\n",
    "mice_by_sex = clean_mice_df.groupby('Sex').size()\n",
    "\n",
    "mice_by_sex.plot.pie(colors = ['orange','blue'],autopct=\"%1.1f%%\",startangle=180)\n"
   ]
  },
  {
   "cell_type": "code",
   "execution_count": null,
   "metadata": {},
   "outputs": [],
   "source": [
    "# Generate a pie plot showing the distribution of female versus male mice using pyplot\n",
    "mice_by_sex = clean_mice_df.groupby('Sex').size()\n",
    "gender = mice_by_sex.index\n",
    "gender_by_number = mice_by_sex.values\n",
    "colors = ['orange','blue']\n",
    "plt.pie(gender_by_number,labels = gender,colors = colors, autopct=\"%1.1f%%\", startangle=180)\n",
    "#autopct=\"%d%%\"\n",
    "plt.show"
   ]
  },
  {
   "attachments": {},
   "cell_type": "markdown",
   "metadata": {},
   "source": [
    "## Quartiles, Outliers and Boxplots"
   ]
  },
  {
   "cell_type": "code",
   "execution_count": null,
   "metadata": {},
   "outputs": [],
   "source": [
    "# Calculate the final tumor volume of each mouse across four of the treatment regimens:  \n",
    "# Capomulin, Ramicane, Infubinol, and Ceftamin\n",
    "\n",
    "mice_group=clean_mice_df.groupby('Mouse ID')['Timepoint'].max()\n",
    "\n",
    "\n",
    "clean2_mice_df = pd.merge(mice_group,clean_mice_df, on =['Mouse ID','Timepoint'],how = 'left')\n",
    "clean2_mice_df.head()\n"
   ]
  },
  {
   "cell_type": "code",
   "execution_count": null,
   "metadata": {},
   "outputs": [],
   "source": [
    "#Thank you Daina from BCS Learning Assistant and classmate Zalak Gajjar\n",
    "\n",
    "drug_list = ['Capomulin','Ramicane','Infubinol','Ceftamin']\n",
    "# tumor_mice_drug = clean2_mice_df.loc[(clean2_mice_df['Drug Regimen'] == 'Capomulin') | (clean2_mice_df['Drug Regimen'] == 'Ramicane')|\\\n",
    "#                          (clean2_mice_df['Drug Regimen'] == 'Infubinol')|(clean2_mice_df['Drug Regimen'] == 'Ceftamin'),'Tumor Volume (mm3)']\n",
    "\n",
    "#This appends to a list, \n",
    "tumor_volume = []\n",
    "\n",
    "for drug in drug_list:\n",
    "    vol = clean2_mice_df.loc[clean2_mice_df['Drug Regimen'] == drug,'Tumor Volume (mm3)']\n",
    "    tumor_volume.append(vol)\n",
    "    #print(vol)\n",
    "    # tumor_volume\n",
    "    quartiles = vol.quantile([.25,.5,.75])\n",
    "\n",
    "    q1 = quartiles[0.25]\n",
    "    q3 = quartiles[0.75]\n",
    "    iqr = q3-q1\n",
    " \n",
    "    lower_bound = q1 - (1.5*iqr)\n",
    "    upper_bound = q3 + (1.5*iqr)\n",
    "\n",
    "    outliers = vol.loc[(vol > upper_bound) | (vol < lower_bound)]\n",
    "    print(f\"{drug}'s potential outliers: {outliers}.\")\n",
    "\n",
    "\n"
   ]
  },
  {
   "cell_type": "code",
   "execution_count": null,
   "metadata": {},
   "outputs": [],
   "source": [
    "fig1, ax1 = plt.subplots()\n",
    "ax1.set_ylabel('Final Tumor Volume (mm3)')\n",
    "labels = ['Capomulin','Ramicane','Infubinol','Ceftamin']\n",
    "\n",
    "#flierprops={'markerfacecolor': 'red', 'marker': 'D', 'markersize': 8, 'markeredgecolor': 'black'})\n",
    "#learning something new everyday.\n",
    "ax1.boxplot(tumor_volume,labels = labels,flierprops={'markerfacecolor': 'red', 'marker': 'o','markersize': 14})\n",
    "\n",
    "plt.show()"
   ]
  },
  {
   "cell_type": "markdown",
   "metadata": {},
   "source": [
    "## Line and Scatter Plots"
   ]
  },
  {
   "cell_type": "code",
   "execution_count": null,
   "metadata": {},
   "outputs": [],
   "source": [
    "# Generate a line plot of tumor volume vs. time point for a mouse treated with Capomulin\n",
    "\n",
    "timepoints_L509 = []\n",
    "tumor_L509 = []\n",
    "\n",
    "#(clean2_mice_df['Mouse ID'] == 'l509').sum()\n",
    "#((clean_mice_df['Mouse ID'] == 'l509') & (clean2_mice_df['Drug Regimen'] == 'Capomulin')).sum()\n",
    "\n",
    "#Doesn't Work\n",
    "# for index, row in clean2_mice_df.iterrows():\n",
    "#     if row['Drug Regimen'] == 'Capomulin':\n",
    "#         timepoints_L509.append(row['Timepoint'])\n",
    "#         tumor_L509.append(row['Tumor Volume (mm3)'])\n",
    "\n",
    "# This works and matches itterows() is very powerful function\n",
    "for index, row in clean_mice_df.iterrows():\n",
    "    if row['Mouse ID'] == 'l509':\n",
    "        timepoints_L509.append(row['Timepoint'])\n",
    "        tumor_L509.append(row['Tumor Volume (mm3)'])\n",
    "\n",
    "# mice_reduced = pd.DataFrame(clean2_mice_df.loc[((clean2_mice_df['Mouse ID'] == 'l509'))]) \n",
    "\n",
    "# mice_reduced\n",
    "\n",
    "\n",
    "plt.plot(timepoints_L509,tumor_L509)\n",
    "plt.xlabel('Timepoint (days)')\n",
    "plt.ylabel('Average Tumer Volume (mm3)')\n",
    "plt.title(\"Capmulin treatment of mouse l509\")\n",
    "\n",
    "plt.show()\n"
   ]
  },
  {
   "cell_type": "code",
   "execution_count": null,
   "metadata": {},
   "outputs": [],
   "source": [
    "# Generate a scatter plot of average tumor volume vs. mouse weight for the Capomulin regimen\n",
    "\n",
    "\n",
    "mice_reduced = clean2_mice_df.loc[(clean2_mice_df['Drug Regimen'] == 'Capomulin')] \n",
    "\n",
    "\n",
    "average_tumor = mice_reduced.groupby(['Mouse ID']).mean(numeric_only=True)['Tumor Volume (mm3)']\n",
    "weight_mouse = mice_reduced.groupby(['Mouse ID']).mean(numeric_only=True)['Weight (g)']\n",
    "\n",
    "plt.scatter(weight_mouse,average_tumor)\n",
    "plt.xlabel('Weight (g)')\n",
    "plt.ylabel('Average Tumer Volume (mm3)')\n",
    "plt.show()\n",
    "\n",
    "#The graph is little off "
   ]
  },
  {
   "cell_type": "code",
   "execution_count": null,
   "metadata": {},
   "outputs": [],
   "source": [
    "# Calculate the correlation coefficient and linear regression model \n",
    "# for mouse weight and average tumor volume for the Capomulin regimen\n",
    "\n",
    "\n",
    "(slope, intercept, rvalue, pvalue, stderr) = linregress(weight_mouse, average_tumor)\n",
    "regress_values = weight_mouse * slope + intercept\n",
    "line_eq = \"y = \" + str(round(slope,2)) + \"x + \" + str(round(intercept,2))\n",
    "plt.scatter(weight_mouse,average_tumor)\n",
    "plt.plot(weight_mouse,regress_values,\"r-\")\n",
    "plt.annotate(line_eq,(5.8,0.8),fontsize=15,color=\"red\")\n",
    "plt.xlabel('Weight (g)')\n",
    "plt.ylabel('Average Tumer Volume (mm3)')\n",
    "print(f\"The correlation between mouse weight and the average tumor volume is {round(rvalue,2)}\")\n",
    "plt.show()"
   ]
  }
 ],
 "metadata": {
  "kernelspec": {
   "display_name": "base",
   "language": "python",
   "name": "python3"
  },
  "language_info": {
   "codemirror_mode": {
    "name": "ipython",
    "version": 3
   },
   "file_extension": ".py",
   "mimetype": "text/x-python",
   "name": "python",
   "nbconvert_exporter": "python",
   "pygments_lexer": "ipython3",
   "version": "3.9.16"
  },
  "orig_nbformat": 4
 },
 "nbformat": 4,
 "nbformat_minor": 2
}
